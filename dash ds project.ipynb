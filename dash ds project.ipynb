{
    "cells": [
        {
            "metadata": {},
            "id": "8c5c7006",
            "cell_type": "code",
            "source": "import pandas as pd\nimport dash\nimport dash_html_components as html\nimport dash_core_components as dcc\nfrom dash.dependencies import Input, Output\nimport plotly.express as px\nimport wget\n\n# Read the airline data into pandas dataframe\n\nspacex_csv_file = wget.download(\"https://cf-courses-data.s3.us.cloud-object-storage.appdomain.cloud/IBM-DS0321EN-SkillsNetwork/datasets/spacex_launch_dash.csv\")\nspacex_df=pd.read_csv(spacex_csv_file)\nmax_payload = spacex_df['Payload Mass (kg)'].max()\nmin_payload = spacex_df['Payload Mass (kg)'].min()\n\n",
            "execution_count": 5,
            "outputs": []
        },
        {
            "metadata": {},
            "id": "c2991ee1",
            "cell_type": "code",
            "source": "# Create a dash application\napp = dash.Dash(__name__)\n\n# Create an app layout\napp.layout = html.Div(children=[html.H1('SpaceX Launch Records Dashboard',\n                                        style={'textAlign': 'center', 'color': '#503D36',\n                                               'font-size': 40}),\n                                # TASK 1: Add a dropdown list to enable Launch Site selection\n                                # The default select value is for ALL sites\n                                # dcc.Dropdown(id='site-dropdown',...)\n                                dcc.Dropdown(id = 'site-dropdown', \n                                             options = [{'label':'ALL SITES', 'value':'ALL'},\n                                                        {'label':'CCAFS LC-40', 'value':'CCAFS LC-40'},\n                                                        {'label':'CCAFS SLC-40', 'value':'CCAFS SLC-40'},\n                                                        {'label':'KSC LC-39A', 'value':'KSC LC-39A'},\n                                                        {'label':'VAFB SLC-4E', 'value':'VAFB SLC-4E'}], value = 'ALL'),\n                                html.Br(),\n\n                                # TASK 2: Add a pie chart to show the total successful launches count for all sites\n                                # If a specific launch site was selected, show the Success vs. Failed counts for the site\n                                html.Div(dcc.Graph(id='success-pie-chart')),\n                                html.Br(),\n\n                                html.P(\"Payload range (Kg):\"),\n                                \n                                \n                                # TASK 3: Add a slider to select payload range\n                                dcc.RangeSlider(id='payload-slider',min = 0, max = 10000, step = 1000,\n                                               value = [min_payload, max_payload]),\n\n                                # TASK 4: Add a scatter chart to show the correlation between payload and launch success\n                                html.Div(dcc.Graph(id='success-payload-scatter-chart')),\n                                ])\n\n# TASK 2:\n# Add a callback function for `site-dropdown` as input, `success-pie-chart` as output\n\n@app.callback(Output(component_id='success-pie-chart', component_property='figure'),\n              Input(component_id='site-dropdown', component_property='value'))\ndef get_pie_chart(entered_site):\n    filtered_df = spacex_df[spacex_df[\"Launch Site\"]==entered_site]\n    if entered_site == 'ALL':\n        fig = px.pie(spacex_df, values='class', \n        names='Launch Site', \n        title='Success Pie Chart All Locations')\n        return fig\n    else:\n        fig = px.pie(filtered_df, values='Payload Mass (kg)',\n        names='class', \n        title='Success Pie Chart for {}'.format(entered_site))\n        return fig\n        # return the outcomes piechart for a selected site\n# TASK 4:\n# Add a callback function for `site-dropdown` and `payload-slider` as inputs, `success-payload-scatter-chart` as output\n@app.callback(Output(component_id='success-payload-scatter-chart', component_property='figure'),\n              [Input(component_id='payload-slider', component_property='value'),\n               Input(component_id='site-dropdown', component_property='value')])\n\ndef get_scatter_chart(entered_range,entered_site):\n    df_newrange = spacex_df[(spacex_df[\"Payload Mass (kg)\"]>=entered_range[0]) & \n                            (spacex_df[\"Payload Mass (kg)\"]<=entered_range[1])]\n    filtered_df = df_newrange[df_newrange[\"Launch Site\"]==entered_site]\n    if entered_site == 'ALL':\n        fig = px.scatter(df_newrange, x = \"Payload Mass (kg)\", y = \"class\",\n                   color = \"Booster Version Category\",\n                   title = \"Correlation between Payload and sucess for all locations\")\n        return fig\n    else:\n        fig = px.scatter(filtered_df, x='Payload Mass (kg)', y = 'class',\n        color=\"Booster Version Category\", \n        title = \"Correlation between Payload and sucess for {}\".format(entered_site))\n        return fig    \n\n\n# Run the app\nif __name__ == '__main__':\n    app.run_server()\n",
            "execution_count": 6,
            "outputs": [
                {
                    "output_type": "stream",
                    "text": "Dash is running on http://127.0.0.1:8050/\n\n * Serving Flask app '__main__' (lazy loading)\n * Environment: production\n\u001b[31m   WARNING: This is a development server. Do not use it in a production deployment.\u001b[0m\n\u001b[2m   Use a production WSGI server instead.\u001b[0m\n * Debug mode: off\n",
                    "name": "stdout"
                },
                {
                    "output_type": "stream",
                    "text": " * Running on http://127.0.0.1:8050/ (Press CTRL+C to quit)\n",
                    "name": "stderr"
                }
            ]
        }
    ],
    "metadata": {
        "kernelspec": {
            "name": "python3",
            "display_name": "Python 3.9",
            "language": "python"
        },
        "language_info": {
            "name": "python",
            "version": "3.9.7",
            "mimetype": "text/x-python",
            "codemirror_mode": {
                "name": "ipython",
                "version": 3
            },
            "pygments_lexer": "ipython3",
            "nbconvert_exporter": "python",
            "file_extension": ".py"
        }
    },
    "nbformat": 4,
    "nbformat_minor": 5
}